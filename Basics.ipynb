{
 "cells": [
  {
   "cell_type": "code",
   "execution_count": 3,
   "metadata": {
    "collapsed": false
   },
   "outputs": [
    {
     "name": "stdout",
     "output_type": "stream",
     "text": [
      "['', 'year', 'month', 'intent', 'police', 'sex', 'age', 'race', 'hispanic', 'place', 'education']\n",
      "['1', '2012', '01', 'Suicide', '0', 'M', '34', 'Asian/Pacific Islander', '100', 'Home', '4']\n",
      "['2', '2012', '01', 'Suicide', '0', 'F', '21', 'White', '100', 'Street', '3']\n",
      "['3', '2012', '01', 'Suicide', '0', 'M', '60', 'White', '100', 'Other specified', '4']\n",
      "['4', '2012', '02', 'Suicide', '0', 'M', '64', 'White', '100', 'Home', '4']\n",
      "['5', '2012', '02', 'Suicide', '0', 'M', '31', 'White', '100', 'Other specified', '2']\n"
     ]
    }
   ],
   "source": [
    "# Exploring Gun Deaths in the US\n",
    "import csv\n",
    "\n",
    "f = open(\"guns.csv\", \"r\")\n",
    "reader = csv.reader(f)\n",
    "data = list(reader)\n",
    "headers = data[0]\n",
    "data.remove(headers)\n",
    "print(headers)\n",
    "for row in data[:5]:\n",
    "    print(row)"
   ]
  },
  {
   "cell_type": "code",
   "execution_count": 4,
   "metadata": {
    "collapsed": false
   },
   "outputs": [
    {
     "name": "stdout",
     "output_type": "stream",
     "text": [
      "{'2012': 33563, '2013': 33636, '2014': 33599}\n"
     ]
    }
   ],
   "source": [
    "# gun deaths by year\n",
    "years = [year[1] for year in data[:]]\n",
    "year_counts = {}\n",
    "for year in years:\n",
    "    if year not in year_counts:\n",
    "        year_counts[year] = 1\n",
    "    else:\n",
    "        year_counts[year] += 1\n",
    "        \n",
    "print(year_counts)"
   ]
  },
  {
   "cell_type": "code",
   "execution_count": 28,
   "metadata": {
    "collapsed": false
   },
   "outputs": [
    {
     "name": "stdout",
     "output_type": "stream",
     "text": [
      "[datetime.datetime(2012, 1, 1, 0, 0), datetime.datetime(2012, 1, 1, 0, 0), datetime.datetime(2012, 1, 1, 0, 0), datetime.datetime(2012, 2, 1, 0, 0), datetime.datetime(2012, 2, 1, 0, 0)]\n",
      "{datetime.datetime(2012, 1, 1, 0, 0): 2758,\n",
      " datetime.datetime(2012, 2, 1, 0, 0): 2357,\n",
      " datetime.datetime(2012, 3, 1, 0, 0): 2743,\n",
      " datetime.datetime(2012, 4, 1, 0, 0): 2795,\n",
      " datetime.datetime(2012, 5, 1, 0, 0): 2999,\n",
      " datetime.datetime(2012, 6, 1, 0, 0): 2826,\n",
      " datetime.datetime(2012, 7, 1, 0, 0): 3026,\n",
      " datetime.datetime(2012, 8, 1, 0, 0): 2954,\n",
      " datetime.datetime(2012, 9, 1, 0, 0): 2852,\n",
      " datetime.datetime(2012, 10, 1, 0, 0): 2733,\n",
      " datetime.datetime(2012, 11, 1, 0, 0): 2729,\n",
      " datetime.datetime(2012, 12, 1, 0, 0): 2791,\n",
      " datetime.datetime(2013, 1, 1, 0, 0): 2864,\n",
      " datetime.datetime(2013, 2, 1, 0, 0): 2375,\n",
      " datetime.datetime(2013, 3, 1, 0, 0): 2862,\n",
      " datetime.datetime(2013, 4, 1, 0, 0): 2798,\n",
      " datetime.datetime(2013, 5, 1, 0, 0): 2806,\n",
      " datetime.datetime(2013, 6, 1, 0, 0): 2920,\n",
      " datetime.datetime(2013, 7, 1, 0, 0): 3079,\n",
      " datetime.datetime(2013, 8, 1, 0, 0): 2859,\n",
      " datetime.datetime(2013, 9, 1, 0, 0): 2742,\n",
      " datetime.datetime(2013, 10, 1, 0, 0): 2808,\n",
      " datetime.datetime(2013, 11, 1, 0, 0): 2758,\n",
      " datetime.datetime(2013, 12, 1, 0, 0): 2765,\n",
      " datetime.datetime(2014, 1, 1, 0, 0): 2651,\n",
      " datetime.datetime(2014, 2, 1, 0, 0): 2361,\n",
      " datetime.datetime(2014, 3, 1, 0, 0): 2684,\n",
      " datetime.datetime(2014, 4, 1, 0, 0): 2862,\n",
      " datetime.datetime(2014, 5, 1, 0, 0): 2864,\n",
      " datetime.datetime(2014, 6, 1, 0, 0): 2931,\n",
      " datetime.datetime(2014, 7, 1, 0, 0): 2884,\n",
      " datetime.datetime(2014, 8, 1, 0, 0): 2970,\n",
      " datetime.datetime(2014, 9, 1, 0, 0): 2914,\n",
      " datetime.datetime(2014, 10, 1, 0, 0): 2865,\n",
      " datetime.datetime(2014, 11, 1, 0, 0): 2756,\n",
      " datetime.datetime(2014, 12, 1, 0, 0): 2857}\n"
     ]
    }
   ],
   "source": [
    "# gun deaths by month and year\n",
    "import datetime as dt\n",
    "# import pprint as pp\n",
    "\n",
    "dates = [dt.datetime(year=int(row[1]), month=int(row[2]), day=1 ) for row in data[:]]\n",
    "print(dates[:5])\n",
    "\n",
    "date_counts = {}\n",
    "for dt1 in dates:\n",
    "    if dt1 not in date_counts:\n",
    "        date_counts[dt1] = 1\n",
    "    else:\n",
    "        date_counts[dt1] += 1\n",
    "        \n",
    "#pp.pprint(date_counts)\n",
    "print(date_counts)"
   ]
  },
  {
   "cell_type": "code",
   "execution_count": 5,
   "metadata": {
    "collapsed": false
   },
   "outputs": [
    {
     "name": "stdout",
     "output_type": "stream",
     "text": [
      "{'Black': 23296, 'Asian/Pacific Islander': 1326, 'White': 66237, 'Native American/Native Alaskan': 917, 'Hispanic': 9022}\n",
      "{'F': 14449, 'M': 86349}\n"
     ]
    }
   ],
   "source": [
    "# expl gun deaths by race and sex\n",
    "sexs = [sex[5] for sex in data]\n",
    "sex_counts = {}\n",
    "for sex in sexs:\n",
    "    if sex not in sex_counts:\n",
    "        sex_counts[sex] = 1\n",
    "    else:\n",
    "        sex_counts[sex] += 1\n",
    "        \n",
    "# print(sex_counts)\n",
    "\n",
    "races = [race[7] for race in data]\n",
    "race_counts = {}\n",
    "for race in races:\n",
    "    if race not in race_counts:\n",
    "        race_counts[race] = 1\n",
    "    else:\n",
    "        race_counts[race] += 1\n",
    "        \n",
    "print(race_counts)\n",
    "print(sex_counts)"
   ]
  },
  {
   "cell_type": "markdown",
   "metadata": {},
   "source": [
    "Learned data structures and methods\n",
    "need visualization methods"
   ]
  },
  {
   "cell_type": "code",
   "execution_count": 6,
   "metadata": {
    "collapsed": false
   },
   "outputs": [
    {
     "name": "stdout",
     "output_type": "stream",
     "text": [
      "[['Id',\n",
      "  'Year',\n",
      "  'Id',\n",
      "  'Sex',\n",
      "  'Id',\n",
      "  'Hispanic Origin',\n",
      "  'Id',\n",
      "  'Id2',\n",
      "  'Geography',\n",
      "  'Total',\n",
      "  'Race Alone - White',\n",
      "  'Race Alone - Hispanic',\n",
      "  'Race Alone - Black or African American',\n",
      "  'Race Alone - American Indian and Alaska Native',\n",
      "  'Race Alone - Asian',\n",
      "  'Race Alone - Native Hawaiian and Other Pacific Islander',\n",
      "  'Two or More Races'],\n",
      " ['cen42010',\n",
      "  'April 1, 2010 Census',\n",
      "  'totsex',\n",
      "  'Both Sexes',\n",
      "  'tothisp',\n",
      "  'Total',\n",
      "  '0100000US',\n",
      "  '',\n",
      "  'United States',\n",
      "  '308745538',\n",
      "  '197318956',\n",
      "  '44618105',\n",
      "  '40250635',\n",
      "  '3739506',\n",
      "  '15159516',\n",
      "  '674625',\n",
      "  '6984195']]\n"
     ]
    }
   ],
   "source": [
    "# second dataset\n",
    "import pprint as pp\n",
    "\n",
    "f1 = open(\"census.csv\", \"r\")\n",
    "reader = csv.reader(f1)\n",
    "census = list(reader)\n",
    "\n",
    "pp.pprint(census)"
   ]
  },
  {
   "cell_type": "code",
   "execution_count": 7,
   "metadata": {
    "collapsed": false
   },
   "outputs": [
    {
     "name": "stdout",
     "output_type": "stream",
     "text": [
      "{'Asian/Pacific Islander': 8.74698110414607, 'Native American/Native Alaskan': 24.521955573811088, 'White': 33.56849303419181, 'Black': 57.8773477735196, 'Hispanic': 20.220491210910907}\n"
     ]
    }
   ],
   "source": [
    "# the rate of gun deaths per 100000 people for each racial category\n",
    "mapping = {\n",
    "    'Black': 40250635,\n",
    "    'Asian/Pacific Islander': 15159516,\n",
    "    'White': 197318956,\n",
    "    'Native American/Native Alaskan': 3739506,\n",
    "    'Hispanic': 44618105\n",
    "}\n",
    "\n",
    "race_per_hundredk = {}\n",
    "for race, val in race_counts.items():\n",
    "    race_per_hundredk[race] = val/mapping[race] * 100000\n",
    "\n",
    "print(race_per_hundredk)"
   ]
  },
  {
   "cell_type": "code",
   "execution_count": 13,
   "metadata": {
    "collapsed": false
   },
   "outputs": [
    {
     "name": "stdout",
     "output_type": "stream",
     "text": [
      "{'Asian/Pacific Islander': 3.687452818414519, 'Native American/Native Alaskan': 8.717729026240365, 'White': 4.6356417981453335, 'Black': 48.471284987180944, 'Hispanic': 12.627161104219914}\n"
     ]
    }
   ],
   "source": [
    "# filtering by intent\n",
    "intents = [row[3] for row in data]\n",
    "races = [row[7] for row in data]\n",
    "\n",
    "homicide_race_counts = {}\n",
    "\n",
    "for i, race in enumerate(races):\n",
    "    if intents[i] == 'Homicide':\n",
    "        if race not in homicide_race_counts:\n",
    "            homicide_race_counts[race] = 1\n",
    "        else:\n",
    "            homicide_race_counts[race] += 1\n",
    "            \n",
    "for race, val in homicide_race_counts.items():\n",
    "    homicide_race_counts[race] = val/mapping[race] * 100000\n",
    "    \n",
    "print(homicide_race_counts)"
   ]
  },
  {
   "cell_type": "markdown",
   "metadata": {},
   "source": [
    "{'Asian/Pacific Islander': 3.687452818414519, 'Native American/Native Alaskan': 8.717729026240365, 'White': 4.6356417981453335, 'Black': 48.471284987180944, 'Hispanic': 12.627161104219914}"
   ]
  }
 ],
 "metadata": {
  "kernelspec": {
   "display_name": "Python 3",
   "language": "python",
   "name": "python3"
  },
  "language_info": {
   "codemirror_mode": {
    "name": "ipython",
    "version": 3
   },
   "file_extension": ".py",
   "mimetype": "text/x-python",
   "name": "python",
   "nbconvert_exporter": "python",
   "pygments_lexer": "ipython3",
   "version": "3.4.3"
  }
 },
 "nbformat": 4,
 "nbformat_minor": 0
}
